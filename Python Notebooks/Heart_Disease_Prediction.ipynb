{
 "cells": [
  {
   "cell_type": "code",
   "execution_count": 6,
   "metadata": {},
   "outputs": [],
   "source": [
    "import numpy as np\n",
    "import pandas as pd\n",
    "import matplotlib.pyplot as plt\n",
    "%matplotlib inline"
   ]
  },
  {
   "cell_type": "code",
   "execution_count": 7,
   "metadata": {},
   "outputs": [],
   "source": [
    "data = pd.read_csv('heart.csv')"
   ]
  },
  {
   "cell_type": "code",
   "execution_count": 8,
   "metadata": {},
   "outputs": [
    {
     "data": {
      "text/html": [
       "<div>\n",
       "<style scoped>\n",
       "    .dataframe tbody tr th:only-of-type {\n",
       "        vertical-align: middle;\n",
       "    }\n",
       "\n",
       "    .dataframe tbody tr th {\n",
       "        vertical-align: top;\n",
       "    }\n",
       "\n",
       "    .dataframe thead th {\n",
       "        text-align: right;\n",
       "    }\n",
       "</style>\n",
       "<table border=\"1\" class=\"dataframe\">\n",
       "  <thead>\n",
       "    <tr style=\"text-align: right;\">\n",
       "      <th></th>\n",
       "      <th>age</th>\n",
       "      <th>sex</th>\n",
       "      <th>cp</th>\n",
       "      <th>trtbps</th>\n",
       "      <th>chol</th>\n",
       "      <th>fbs</th>\n",
       "      <th>restecg</th>\n",
       "      <th>thalachh</th>\n",
       "      <th>exng</th>\n",
       "      <th>oldpeak</th>\n",
       "      <th>slp</th>\n",
       "      <th>caa</th>\n",
       "      <th>thall</th>\n",
       "      <th>output</th>\n",
       "    </tr>\n",
       "  </thead>\n",
       "  <tbody>\n",
       "    <tr>\n",
       "      <th>0</th>\n",
       "      <td>60</td>\n",
       "      <td>1</td>\n",
       "      <td>3</td>\n",
       "      <td>145</td>\n",
       "      <td>233</td>\n",
       "      <td>1</td>\n",
       "      <td>0</td>\n",
       "      <td>150</td>\n",
       "      <td>0</td>\n",
       "      <td>2.3</td>\n",
       "      <td>0</td>\n",
       "      <td>0</td>\n",
       "      <td>1</td>\n",
       "      <td>1</td>\n",
       "    </tr>\n",
       "    <tr>\n",
       "      <th>1</th>\n",
       "      <td>35</td>\n",
       "      <td>1</td>\n",
       "      <td>2</td>\n",
       "      <td>130</td>\n",
       "      <td>250</td>\n",
       "      <td>0</td>\n",
       "      <td>1</td>\n",
       "      <td>187</td>\n",
       "      <td>0</td>\n",
       "      <td>3.5</td>\n",
       "      <td>0</td>\n",
       "      <td>0</td>\n",
       "      <td>2</td>\n",
       "      <td>1</td>\n",
       "    </tr>\n",
       "    <tr>\n",
       "      <th>2</th>\n",
       "      <td>41</td>\n",
       "      <td>0</td>\n",
       "      <td>1</td>\n",
       "      <td>130</td>\n",
       "      <td>204</td>\n",
       "      <td>0</td>\n",
       "      <td>0</td>\n",
       "      <td>172</td>\n",
       "      <td>0</td>\n",
       "      <td>1.4</td>\n",
       "      <td>2</td>\n",
       "      <td>0</td>\n",
       "      <td>2</td>\n",
       "      <td>1</td>\n",
       "    </tr>\n",
       "    <tr>\n",
       "      <th>3</th>\n",
       "      <td>55</td>\n",
       "      <td>1</td>\n",
       "      <td>1</td>\n",
       "      <td>120</td>\n",
       "      <td>236</td>\n",
       "      <td>0</td>\n",
       "      <td>1</td>\n",
       "      <td>178</td>\n",
       "      <td>0</td>\n",
       "      <td>0.8</td>\n",
       "      <td>2</td>\n",
       "      <td>0</td>\n",
       "      <td>2</td>\n",
       "      <td>1</td>\n",
       "    </tr>\n",
       "    <tr>\n",
       "      <th>4</th>\n",
       "      <td>56</td>\n",
       "      <td>0</td>\n",
       "      <td>0</td>\n",
       "      <td>120</td>\n",
       "      <td>354</td>\n",
       "      <td>0</td>\n",
       "      <td>1</td>\n",
       "      <td>163</td>\n",
       "      <td>1</td>\n",
       "      <td>0.6</td>\n",
       "      <td>2</td>\n",
       "      <td>0</td>\n",
       "      <td>2</td>\n",
       "      <td>1</td>\n",
       "    </tr>\n",
       "  </tbody>\n",
       "</table>\n",
       "</div>"
      ],
      "text/plain": [
       "   age  sex  cp  trtbps  chol  fbs  restecg  thalachh  exng  oldpeak  slp  \\\n",
       "0   60    1   3     145   233    1        0       150     0      2.3    0   \n",
       "1   35    1   2     130   250    0        1       187     0      3.5    0   \n",
       "2   41    0   1     130   204    0        0       172     0      1.4    2   \n",
       "3   55    1   1     120   236    0        1       178     0      0.8    2   \n",
       "4   56    0   0     120   354    0        1       163     1      0.6    2   \n",
       "\n",
       "   caa  thall  output  \n",
       "0    0      1       1  \n",
       "1    0      2       1  \n",
       "2    0      2       1  \n",
       "3    0      2       1  \n",
       "4    0      2       1  "
      ]
     },
     "execution_count": 8,
     "metadata": {},
     "output_type": "execute_result"
    }
   ],
   "source": [
    "data.head()"
   ]
  },
  {
   "cell_type": "code",
   "execution_count": 9,
   "metadata": {},
   "outputs": [
    {
     "name": "stdout",
     "output_type": "stream",
     "text": [
      "<class 'pandas.core.frame.DataFrame'>\n",
      "RangeIndex: 289 entries, 0 to 288\n",
      "Data columns (total 14 columns):\n",
      " #   Column    Non-Null Count  Dtype  \n",
      "---  ------    --------------  -----  \n",
      " 0   age       289 non-null    int64  \n",
      " 1   sex       289 non-null    int64  \n",
      " 2   cp        289 non-null    int64  \n",
      " 3   trtbps    289 non-null    int64  \n",
      " 4   chol      289 non-null    int64  \n",
      " 5   fbs       289 non-null    int64  \n",
      " 6   restecg   289 non-null    int64  \n",
      " 7   thalachh  289 non-null    int64  \n",
      " 8   exng      289 non-null    int64  \n",
      " 9   oldpeak   289 non-null    float64\n",
      " 10  slp       289 non-null    int64  \n",
      " 11  caa       289 non-null    int64  \n",
      " 12  thall     289 non-null    int64  \n",
      " 13  output    289 non-null    int64  \n",
      "dtypes: float64(1), int64(13)\n",
      "memory usage: 31.7 KB\n"
     ]
    }
   ],
   "source": [
    "data.info()"
   ]
  },
  {
   "cell_type": "code",
   "execution_count": 10,
   "metadata": {},
   "outputs": [
    {
     "data": {
      "text/plain": [
       "age         0\n",
       "sex         0\n",
       "cp          0\n",
       "trtbps      0\n",
       "chol        0\n",
       "fbs         0\n",
       "restecg     0\n",
       "thalachh    0\n",
       "exng        0\n",
       "oldpeak     0\n",
       "slp         0\n",
       "caa         0\n",
       "thall       0\n",
       "output      0\n",
       "dtype: int64"
      ]
     },
     "execution_count": 10,
     "metadata": {},
     "output_type": "execute_result"
    }
   ],
   "source": [
    "data.isnull().sum()"
   ]
  },
  {
   "cell_type": "code",
   "execution_count": 11,
   "metadata": {},
   "outputs": [
    {
     "data": {
      "text/html": [
       "<div>\n",
       "<style scoped>\n",
       "    .dataframe tbody tr th:only-of-type {\n",
       "        vertical-align: middle;\n",
       "    }\n",
       "\n",
       "    .dataframe tbody tr th {\n",
       "        vertical-align: top;\n",
       "    }\n",
       "\n",
       "    .dataframe thead th {\n",
       "        text-align: right;\n",
       "    }\n",
       "</style>\n",
       "<table border=\"1\" class=\"dataframe\">\n",
       "  <thead>\n",
       "    <tr style=\"text-align: right;\">\n",
       "      <th></th>\n",
       "      <th>age</th>\n",
       "      <th>sex</th>\n",
       "      <th>cp</th>\n",
       "      <th>trtbps</th>\n",
       "      <th>chol</th>\n",
       "      <th>fbs</th>\n",
       "      <th>restecg</th>\n",
       "      <th>thalachh</th>\n",
       "      <th>exng</th>\n",
       "      <th>oldpeak</th>\n",
       "      <th>slp</th>\n",
       "      <th>caa</th>\n",
       "      <th>thall</th>\n",
       "      <th>output</th>\n",
       "    </tr>\n",
       "  </thead>\n",
       "  <tbody>\n",
       "    <tr>\n",
       "      <th>count</th>\n",
       "      <td>289.000000</td>\n",
       "      <td>289.000000</td>\n",
       "      <td>289.000000</td>\n",
       "      <td>289.000000</td>\n",
       "      <td>289.000000</td>\n",
       "      <td>289.000000</td>\n",
       "      <td>289.000000</td>\n",
       "      <td>289.000000</td>\n",
       "      <td>289.000000</td>\n",
       "      <td>289.000000</td>\n",
       "      <td>289.000000</td>\n",
       "      <td>289.000000</td>\n",
       "      <td>289.000000</td>\n",
       "      <td>289.000000</td>\n",
       "    </tr>\n",
       "    <tr>\n",
       "      <th>mean</th>\n",
       "      <td>54.010381</td>\n",
       "      <td>0.678201</td>\n",
       "      <td>1.020761</td>\n",
       "      <td>131.377163</td>\n",
       "      <td>247.961938</td>\n",
       "      <td>0.145329</td>\n",
       "      <td>0.515571</td>\n",
       "      <td>150.231834</td>\n",
       "      <td>0.318339</td>\n",
       "      <td>1.007612</td>\n",
       "      <td>1.418685</td>\n",
       "      <td>0.712803</td>\n",
       "      <td>2.314879</td>\n",
       "      <td>0.570934</td>\n",
       "    </tr>\n",
       "    <tr>\n",
       "      <th>std</th>\n",
       "      <td>9.132316</td>\n",
       "      <td>0.467977</td>\n",
       "      <td>1.027192</td>\n",
       "      <td>17.518432</td>\n",
       "      <td>51.596208</td>\n",
       "      <td>0.353043</td>\n",
       "      <td>0.514309</td>\n",
       "      <td>22.899650</td>\n",
       "      <td>0.466640</td>\n",
       "      <td>1.133491</td>\n",
       "      <td>0.613333</td>\n",
       "      <td>1.022596</td>\n",
       "      <td>0.596128</td>\n",
       "      <td>0.495801</td>\n",
       "    </tr>\n",
       "    <tr>\n",
       "      <th>min</th>\n",
       "      <td>29.000000</td>\n",
       "      <td>0.000000</td>\n",
       "      <td>0.000000</td>\n",
       "      <td>94.000000</td>\n",
       "      <td>126.000000</td>\n",
       "      <td>0.000000</td>\n",
       "      <td>0.000000</td>\n",
       "      <td>71.000000</td>\n",
       "      <td>0.000000</td>\n",
       "      <td>0.000000</td>\n",
       "      <td>0.000000</td>\n",
       "      <td>0.000000</td>\n",
       "      <td>0.000000</td>\n",
       "      <td>0.000000</td>\n",
       "    </tr>\n",
       "    <tr>\n",
       "      <th>25%</th>\n",
       "      <td>47.000000</td>\n",
       "      <td>0.000000</td>\n",
       "      <td>0.000000</td>\n",
       "      <td>120.000000</td>\n",
       "      <td>212.000000</td>\n",
       "      <td>0.000000</td>\n",
       "      <td>0.000000</td>\n",
       "      <td>136.000000</td>\n",
       "      <td>0.000000</td>\n",
       "      <td>0.000000</td>\n",
       "      <td>1.000000</td>\n",
       "      <td>0.000000</td>\n",
       "      <td>2.000000</td>\n",
       "      <td>0.000000</td>\n",
       "    </tr>\n",
       "    <tr>\n",
       "      <th>50%</th>\n",
       "      <td>54.000000</td>\n",
       "      <td>1.000000</td>\n",
       "      <td>1.000000</td>\n",
       "      <td>130.000000</td>\n",
       "      <td>243.000000</td>\n",
       "      <td>0.000000</td>\n",
       "      <td>1.000000</td>\n",
       "      <td>154.000000</td>\n",
       "      <td>0.000000</td>\n",
       "      <td>0.600000</td>\n",
       "      <td>1.000000</td>\n",
       "      <td>0.000000</td>\n",
       "      <td>2.000000</td>\n",
       "      <td>1.000000</td>\n",
       "    </tr>\n",
       "    <tr>\n",
       "      <th>75%</th>\n",
       "      <td>60.000000</td>\n",
       "      <td>1.000000</td>\n",
       "      <td>2.000000</td>\n",
       "      <td>140.000000</td>\n",
       "      <td>276.000000</td>\n",
       "      <td>0.000000</td>\n",
       "      <td>1.000000</td>\n",
       "      <td>168.000000</td>\n",
       "      <td>1.000000</td>\n",
       "      <td>1.600000</td>\n",
       "      <td>2.000000</td>\n",
       "      <td>1.000000</td>\n",
       "      <td>3.000000</td>\n",
       "      <td>1.000000</td>\n",
       "    </tr>\n",
       "    <tr>\n",
       "      <th>max</th>\n",
       "      <td>77.000000</td>\n",
       "      <td>1.000000</td>\n",
       "      <td>3.000000</td>\n",
       "      <td>200.000000</td>\n",
       "      <td>564.000000</td>\n",
       "      <td>1.000000</td>\n",
       "      <td>2.000000</td>\n",
       "      <td>202.000000</td>\n",
       "      <td>1.000000</td>\n",
       "      <td>6.200000</td>\n",
       "      <td>2.000000</td>\n",
       "      <td>4.000000</td>\n",
       "      <td>3.000000</td>\n",
       "      <td>1.000000</td>\n",
       "    </tr>\n",
       "  </tbody>\n",
       "</table>\n",
       "</div>"
      ],
      "text/plain": [
       "              age         sex          cp      trtbps        chol         fbs  \\\n",
       "count  289.000000  289.000000  289.000000  289.000000  289.000000  289.000000   \n",
       "mean    54.010381    0.678201    1.020761  131.377163  247.961938    0.145329   \n",
       "std      9.132316    0.467977    1.027192   17.518432   51.596208    0.353043   \n",
       "min     29.000000    0.000000    0.000000   94.000000  126.000000    0.000000   \n",
       "25%     47.000000    0.000000    0.000000  120.000000  212.000000    0.000000   \n",
       "50%     54.000000    1.000000    1.000000  130.000000  243.000000    0.000000   \n",
       "75%     60.000000    1.000000    2.000000  140.000000  276.000000    0.000000   \n",
       "max     77.000000    1.000000    3.000000  200.000000  564.000000    1.000000   \n",
       "\n",
       "          restecg    thalachh        exng     oldpeak         slp         caa  \\\n",
       "count  289.000000  289.000000  289.000000  289.000000  289.000000  289.000000   \n",
       "mean     0.515571  150.231834    0.318339    1.007612    1.418685    0.712803   \n",
       "std      0.514309   22.899650    0.466640    1.133491    0.613333    1.022596   \n",
       "min      0.000000   71.000000    0.000000    0.000000    0.000000    0.000000   \n",
       "25%      0.000000  136.000000    0.000000    0.000000    1.000000    0.000000   \n",
       "50%      1.000000  154.000000    0.000000    0.600000    1.000000    0.000000   \n",
       "75%      1.000000  168.000000    1.000000    1.600000    2.000000    1.000000   \n",
       "max      2.000000  202.000000    1.000000    6.200000    2.000000    4.000000   \n",
       "\n",
       "            thall      output  \n",
       "count  289.000000  289.000000  \n",
       "mean     2.314879    0.570934  \n",
       "std      0.596128    0.495801  \n",
       "min      0.000000    0.000000  \n",
       "25%      2.000000    0.000000  \n",
       "50%      2.000000    1.000000  \n",
       "75%      3.000000    1.000000  \n",
       "max      3.000000    1.000000  "
      ]
     },
     "execution_count": 11,
     "metadata": {},
     "output_type": "execute_result"
    }
   ],
   "source": [
    "data.describe()"
   ]
  },
  {
   "cell_type": "code",
   "execution_count": 12,
   "metadata": {},
   "outputs": [
    {
     "data": {
      "text/plain": [
       "<AxesSubplot:>"
      ]
     },
     "execution_count": 12,
     "metadata": {},
     "output_type": "execute_result"
    },
    {
     "data": {
      "image/png": "[encoded data removed]",
      "text/plain": [
       "<Figure size 1500x1500 with 2 Axes>"
      ]
     },
     "metadata": {},
     "output_type": "display_data"
    }
   ],
   "source": [
    "import seaborn as sns\n",
    "\n",
    "corr = data.corr()\n",
    "\n",
    "plt.figure(figsize = (15,15))\n",
    "sns.heatmap(corr, annot = True)"
   ]
  },
  {
   "cell_type": "code",
   "execution_count": 13,
   "metadata": {},
   "outputs": [
    {
     "data": {
      "text/html": [
       "<div>\n",
       "<style scoped>\n",
       "    .dataframe tbody tr th:only-of-type {\n",
       "        vertical-align: middle;\n",
       "    }\n",
       "\n",
       "    .dataframe tbody tr th {\n",
       "        vertical-align: top;\n",
       "    }\n",
       "\n",
       "    .dataframe thead th {\n",
       "        text-align: right;\n",
       "    }\n",
       "</style>\n",
       "<table border=\"1\" class=\"dataframe\">\n",
       "  <thead>\n",
       "    <tr style=\"text-align: right;\">\n",
       "      <th></th>\n",
       "      <th>age</th>\n",
       "      <th>sex</th>\n",
       "      <th>cp</th>\n",
       "      <th>trtbps</th>\n",
       "      <th>chol</th>\n",
       "      <th>fbs</th>\n",
       "      <th>restecg</th>\n",
       "      <th>thalachh</th>\n",
       "      <th>exng</th>\n",
       "      <th>oldpeak</th>\n",
       "      <th>slp</th>\n",
       "      <th>caa</th>\n",
       "      <th>thall</th>\n",
       "      <th>output</th>\n",
       "    </tr>\n",
       "  </thead>\n",
       "  <tbody>\n",
       "    <tr>\n",
       "      <th>age</th>\n",
       "      <td>1.000000</td>\n",
       "      <td>-0.122710</td>\n",
       "      <td>-0.057396</td>\n",
       "      <td>0.267559</td>\n",
       "      <td>0.236944</td>\n",
       "      <td>0.106149</td>\n",
       "      <td>-0.123862</td>\n",
       "      <td>-0.397116</td>\n",
       "      <td>0.100256</td>\n",
       "      <td>0.200817</td>\n",
       "      <td>-0.166915</td>\n",
       "      <td>0.272858</td>\n",
       "      <td>0.058075</td>\n",
       "      <td>-0.202999</td>\n",
       "    </tr>\n",
       "    <tr>\n",
       "      <th>sex</th>\n",
       "      <td>-0.122710</td>\n",
       "      <td>1.000000</td>\n",
       "      <td>-0.058286</td>\n",
       "      <td>-0.054180</td>\n",
       "      <td>-0.197087</td>\n",
       "      <td>0.031852</td>\n",
       "      <td>-0.044028</td>\n",
       "      <td>-0.053280</td>\n",
       "      <td>0.136829</td>\n",
       "      <td>0.110022</td>\n",
       "      <td>-0.049142</td>\n",
       "      <td>0.081922</td>\n",
       "      <td>0.215120</td>\n",
       "      <td>-0.282884</td>\n",
       "    </tr>\n",
       "    <tr>\n",
       "      <th>cp</th>\n",
       "      <td>-0.057396</td>\n",
       "      <td>-0.058286</td>\n",
       "      <td>1.000000</td>\n",
       "      <td>0.077325</td>\n",
       "      <td>-0.121056</td>\n",
       "      <td>0.135273</td>\n",
       "      <td>0.051966</td>\n",
       "      <td>0.272437</td>\n",
       "      <td>-0.354301</td>\n",
       "      <td>-0.125687</td>\n",
       "      <td>0.090871</td>\n",
       "      <td>-0.126528</td>\n",
       "      <td>-0.192167</td>\n",
       "      <td>0.399352</td>\n",
       "    </tr>\n",
       "    <tr>\n",
       "      <th>trtbps</th>\n",
       "      <td>0.267559</td>\n",
       "      <td>-0.054180</td>\n",
       "      <td>0.077325</td>\n",
       "      <td>1.000000</td>\n",
       "      <td>0.152325</td>\n",
       "      <td>0.147180</td>\n",
       "      <td>-0.089869</td>\n",
       "      <td>-0.036156</td>\n",
       "      <td>0.068087</td>\n",
       "      <td>0.204915</td>\n",
       "      <td>-0.135932</td>\n",
       "      <td>0.089218</td>\n",
       "      <td>0.075367</td>\n",
       "      <td>-0.136812</td>\n",
       "    </tr>\n",
       "    <tr>\n",
       "      <th>chol</th>\n",
       "      <td>0.236944</td>\n",
       "      <td>-0.197087</td>\n",
       "      <td>-0.121056</td>\n",
       "      <td>0.152325</td>\n",
       "      <td>1.000000</td>\n",
       "      <td>0.028135</td>\n",
       "      <td>-0.161116</td>\n",
       "      <td>-0.038819</td>\n",
       "      <td>0.101743</td>\n",
       "      <td>0.069035</td>\n",
       "      <td>-0.016172</td>\n",
       "      <td>0.077776</td>\n",
       "      <td>0.116215</td>\n",
       "      <td>-0.128364</td>\n",
       "    </tr>\n",
       "    <tr>\n",
       "      <th>fbs</th>\n",
       "      <td>0.106149</td>\n",
       "      <td>0.031852</td>\n",
       "      <td>0.135273</td>\n",
       "      <td>0.147180</td>\n",
       "      <td>0.028135</td>\n",
       "      <td>1.000000</td>\n",
       "      <td>-0.069875</td>\n",
       "      <td>0.011280</td>\n",
       "      <td>0.034350</td>\n",
       "      <td>-0.017525</td>\n",
       "      <td>-0.057484</td>\n",
       "      <td>0.116013</td>\n",
       "      <td>-0.003711</td>\n",
       "      <td>-0.019425</td>\n",
       "    </tr>\n",
       "    <tr>\n",
       "      <th>restecg</th>\n",
       "      <td>-0.123862</td>\n",
       "      <td>-0.044028</td>\n",
       "      <td>0.051966</td>\n",
       "      <td>-0.089869</td>\n",
       "      <td>-0.161116</td>\n",
       "      <td>-0.069875</td>\n",
       "      <td>1.000000</td>\n",
       "      <td>0.067058</td>\n",
       "      <td>-0.093064</td>\n",
       "      <td>-0.096694</td>\n",
       "      <td>0.138869</td>\n",
       "      <td>-0.087197</td>\n",
       "      <td>-0.021710</td>\n",
       "      <td>0.176076</td>\n",
       "    </tr>\n",
       "    <tr>\n",
       "      <th>thalachh</th>\n",
       "      <td>-0.397116</td>\n",
       "      <td>-0.053280</td>\n",
       "      <td>0.272437</td>\n",
       "      <td>-0.036156</td>\n",
       "      <td>-0.038819</td>\n",
       "      <td>0.011280</td>\n",
       "      <td>0.067058</td>\n",
       "      <td>1.000000</td>\n",
       "      <td>-0.381906</td>\n",
       "      <td>-0.354159</td>\n",
       "      <td>0.384908</td>\n",
       "      <td>-0.211407</td>\n",
       "      <td>-0.111686</td>\n",
       "      <td>0.415537</td>\n",
       "    </tr>\n",
       "    <tr>\n",
       "      <th>exng</th>\n",
       "      <td>0.100256</td>\n",
       "      <td>0.136829</td>\n",
       "      <td>-0.354301</td>\n",
       "      <td>0.068087</td>\n",
       "      <td>0.101743</td>\n",
       "      <td>0.034350</td>\n",
       "      <td>-0.093064</td>\n",
       "      <td>-0.381906</td>\n",
       "      <td>1.000000</td>\n",
       "      <td>0.293435</td>\n",
       "      <td>-0.261067</td>\n",
       "      <td>0.126772</td>\n",
       "      <td>0.225066</td>\n",
       "      <td>-0.443121</td>\n",
       "    </tr>\n",
       "    <tr>\n",
       "      <th>oldpeak</th>\n",
       "      <td>0.200817</td>\n",
       "      <td>0.110022</td>\n",
       "      <td>-0.125687</td>\n",
       "      <td>0.204915</td>\n",
       "      <td>0.069035</td>\n",
       "      <td>-0.017525</td>\n",
       "      <td>-0.096694</td>\n",
       "      <td>-0.354159</td>\n",
       "      <td>0.293435</td>\n",
       "      <td>1.000000</td>\n",
       "      <td>-0.587959</td>\n",
       "      <td>0.189418</td>\n",
       "      <td>0.259026</td>\n",
       "      <td>-0.432840</td>\n",
       "    </tr>\n",
       "    <tr>\n",
       "      <th>slp</th>\n",
       "      <td>-0.166915</td>\n",
       "      <td>-0.049142</td>\n",
       "      <td>0.090871</td>\n",
       "      <td>-0.135932</td>\n",
       "      <td>-0.016172</td>\n",
       "      <td>-0.057484</td>\n",
       "      <td>0.138869</td>\n",
       "      <td>0.384908</td>\n",
       "      <td>-0.261067</td>\n",
       "      <td>-0.587959</td>\n",
       "      <td>1.000000</td>\n",
       "      <td>-0.073349</td>\n",
       "      <td>-0.152900</td>\n",
       "      <td>0.330184</td>\n",
       "    </tr>\n",
       "    <tr>\n",
       "      <th>caa</th>\n",
       "      <td>0.272858</td>\n",
       "      <td>0.081922</td>\n",
       "      <td>-0.126528</td>\n",
       "      <td>0.089218</td>\n",
       "      <td>0.077776</td>\n",
       "      <td>0.116013</td>\n",
       "      <td>-0.087197</td>\n",
       "      <td>-0.211407</td>\n",
       "      <td>0.126772</td>\n",
       "      <td>0.189418</td>\n",
       "      <td>-0.073349</td>\n",
       "      <td>1.000000</td>\n",
       "      <td>0.188734</td>\n",
       "      <td>-0.394559</td>\n",
       "    </tr>\n",
       "    <tr>\n",
       "      <th>thall</th>\n",
       "      <td>0.058075</td>\n",
       "      <td>0.215120</td>\n",
       "      <td>-0.192167</td>\n",
       "      <td>0.075367</td>\n",
       "      <td>0.116215</td>\n",
       "      <td>-0.003711</td>\n",
       "      <td>-0.021710</td>\n",
       "      <td>-0.111686</td>\n",
       "      <td>0.225066</td>\n",
       "      <td>0.259026</td>\n",
       "      <td>-0.152900</td>\n",
       "      <td>0.188734</td>\n",
       "      <td>1.000000</td>\n",
       "      <td>-0.375405</td>\n",
       "    </tr>\n",
       "    <tr>\n",
       "      <th>output</th>\n",
       "      <td>-0.202999</td>\n",
       "      <td>-0.282884</td>\n",
       "      <td>0.399352</td>\n",
       "      <td>-0.136812</td>\n",
       "      <td>-0.128364</td>\n",
       "      <td>-0.019425</td>\n",
       "      <td>0.176076</td>\n",
       "      <td>0.415537</td>\n",
       "      <td>-0.443121</td>\n",
       "      <td>-0.432840</td>\n",
       "      <td>0.330184</td>\n",
       "      <td>-0.394559</td>\n",
       "      <td>-0.375405</td>\n",
       "      <td>1.000000</td>\n",
       "    </tr>\n",
       "  </tbody>\n",
       "</table>\n",
       "</div>"
      ],
      "text/plain": [
       "               age       sex        cp    trtbps      chol       fbs  \\\n",
       "age       1.000000 -0.122710 -0.057396  0.267559  0.236944  0.106149   \n",
       "sex      -0.122710  1.000000 -0.058286 -0.054180 -0.197087  0.031852   \n",
       "cp       -0.057396 -0.058286  1.000000  0.077325 -0.121056  0.135273   \n",
       "trtbps    0.267559 -0.054180  0.077325  1.000000  0.152325  0.147180   \n",
       "chol      0.236944 -0.197087 -0.121056  0.152325  1.000000  0.028135   \n",
       "fbs       0.106149  0.031852  0.135273  0.147180  0.028135  1.000000   \n",
       "restecg  -0.123862 -0.044028  0.051966 -0.089869 -0.161116 -0.069875   \n",
       "thalachh -0.397116 -0.053280  0.272437 -0.036156 -0.038819  0.011280   \n",
       "exng      0.100256  0.136829 -0.354301  0.068087  0.101743  0.034350   \n",
       "oldpeak   0.200817  0.110022 -0.125687  0.204915  0.069035 -0.017525   \n",
       "slp      -0.166915 -0.049142  0.090871 -0.135932 -0.016172 -0.057484   \n",
       "caa       0.272858  0.081922 -0.126528  0.089218  0.077776  0.116013   \n",
       "thall     0.058075  0.215120 -0.192167  0.075367  0.116215 -0.003711   \n",
       "output   -0.202999 -0.282884  0.399352 -0.136812 -0.128364 -0.019425   \n",
       "\n",
       "           restecg  thalachh      exng   oldpeak       slp       caa  \\\n",
       "age      -0.123862 -0.397116  0.100256  0.200817 -0.166915  0.272858   \n",
       "sex      -0.044028 -0.053280  0.136829  0.110022 -0.049142  0.081922   \n",
       "cp        0.051966  0.272437 -0.354301 -0.125687  0.090871 -0.126528   \n",
       "trtbps   -0.089869 -0.036156  0.068087  0.204915 -0.135932  0.089218   \n",
       "chol     -0.161116 -0.038819  0.101743  0.069035 -0.016172  0.077776   \n",
       "fbs      -0.069875  0.011280  0.034350 -0.017525 -0.057484  0.116013   \n",
       "restecg   1.000000  0.067058 -0.093064 -0.096694  0.138869 -0.087197   \n",
       "thalachh  0.067058  1.000000 -0.381906 -0.354159  0.384908 -0.211407   \n",
       "exng     -0.093064 -0.381906  1.000000  0.293435 -0.261067  0.126772   \n",
       "oldpeak  -0.096694 -0.354159  0.293435  1.000000 -0.587959  0.189418   \n",
       "slp       0.138869  0.384908 -0.261067 -0.587959  1.000000 -0.073349   \n",
       "caa      -0.087197 -0.211407  0.126772  0.189418 -0.073349  1.000000   \n",
       "thall    -0.021710 -0.111686  0.225066  0.259026 -0.152900  0.188734   \n",
       "output    0.176076  0.415537 -0.443121 -0.432840  0.330184 -0.394559   \n",
       "\n",
       "             thall    output  \n",
       "age       0.058075 -0.202999  \n",
       "sex       0.215120 -0.282884  \n",
       "cp       -0.192167  0.399352  \n",
       "trtbps    0.075367 -0.136812  \n",
       "chol      0.116215 -0.128364  \n",
       "fbs      -0.003711 -0.019425  \n",
       "restecg  -0.021710  0.176076  \n",
       "thalachh -0.111686  0.415537  \n",
       "exng      0.225066 -0.443121  \n",
       "oldpeak   0.259026 -0.432840  \n",
       "slp      -0.152900  0.330184  \n",
       "caa       0.188734 -0.394559  \n",
       "thall     1.000000 -0.375405  \n",
       "output   -0.375405  1.000000  "
      ]
     },
     "execution_count": 13,
     "metadata": {},
     "output_type": "execute_result"
    }
   ],
   "source": [
    "corr"
   ]
  },
  {
   "cell_type": "code",
   "execution_count": 14,
   "metadata": {},
   "outputs": [
    {
     "data": {
      "text/plain": [
       "<AxesSubplot:xlabel='output', ylabel='count'>"
      ]
     },
     "execution_count": 14,
     "metadata": {},
     "output_type": "execute_result"
    },
    {
     "data": {
      "image/png": "[encoded data removed]",
      "text/plain": [
       "<Figure size 640x480 with 1 Axes>"
      ]
     },
     "metadata": {},
     "output_type": "display_data"
    }
   ],
   "source": [
    "sns.set_style('whitegrid')\n",
    "sns.countplot(x = 'output', data = data)"
   ]
  },
  {
   "cell_type": "code",
   "execution_count": 15,
   "metadata": {},
   "outputs": [],
   "source": [
    "# dataset = pd.get_dummies(data, columns = ['sex', 'cp', 'fbs', 'restecg', 'exang', 'slope', 'ca', 'thal'])"
   ]
  },
  {
   "cell_type": "code",
   "execution_count": 16,
   "metadata": {},
   "outputs": [
    {
     "data": {
      "text/html": [
       "<div>\n",
       "<style scoped>\n",
       "    .dataframe tbody tr th:only-of-type {\n",
       "        vertical-align: middle;\n",
       "    }\n",
       "\n",
       "    .dataframe tbody tr th {\n",
       "        vertical-align: top;\n",
       "    }\n",
       "\n",
       "    .dataframe thead th {\n",
       "        text-align: right;\n",
       "    }\n",
       "</style>\n",
       "<table border=\"1\" class=\"dataframe\">\n",
       "  <thead>\n",
       "    <tr style=\"text-align: right;\">\n",
       "      <th></th>\n",
       "      <th>age</th>\n",
       "      <th>sex</th>\n",
       "      <th>cp</th>\n",
       "      <th>trtbps</th>\n",
       "      <th>chol</th>\n",
       "      <th>fbs</th>\n",
       "      <th>restecg</th>\n",
       "      <th>thalachh</th>\n",
       "      <th>exng</th>\n",
       "      <th>oldpeak</th>\n",
       "      <th>slp</th>\n",
       "      <th>caa</th>\n",
       "      <th>thall</th>\n",
       "      <th>output</th>\n",
       "    </tr>\n",
       "  </thead>\n",
       "  <tbody>\n",
       "    <tr>\n",
       "      <th>0</th>\n",
       "      <td>60</td>\n",
       "      <td>1</td>\n",
       "      <td>3</td>\n",
       "      <td>145</td>\n",
       "      <td>233</td>\n",
       "      <td>1</td>\n",
       "      <td>0</td>\n",
       "      <td>150</td>\n",
       "      <td>0</td>\n",
       "      <td>2.3</td>\n",
       "      <td>0</td>\n",
       "      <td>0</td>\n",
       "      <td>1</td>\n",
       "      <td>1</td>\n",
       "    </tr>\n",
       "    <tr>\n",
       "      <th>1</th>\n",
       "      <td>35</td>\n",
       "      <td>1</td>\n",
       "      <td>2</td>\n",
       "      <td>130</td>\n",
       "      <td>250</td>\n",
       "      <td>0</td>\n",
       "      <td>1</td>\n",
       "      <td>187</td>\n",
       "      <td>0</td>\n",
       "      <td>3.5</td>\n",
       "      <td>0</td>\n",
       "      <td>0</td>\n",
       "      <td>2</td>\n",
       "      <td>1</td>\n",
       "    </tr>\n",
       "    <tr>\n",
       "      <th>2</th>\n",
       "      <td>41</td>\n",
       "      <td>0</td>\n",
       "      <td>1</td>\n",
       "      <td>130</td>\n",
       "      <td>204</td>\n",
       "      <td>0</td>\n",
       "      <td>0</td>\n",
       "      <td>172</td>\n",
       "      <td>0</td>\n",
       "      <td>1.4</td>\n",
       "      <td>2</td>\n",
       "      <td>0</td>\n",
       "      <td>2</td>\n",
       "      <td>1</td>\n",
       "    </tr>\n",
       "    <tr>\n",
       "      <th>3</th>\n",
       "      <td>55</td>\n",
       "      <td>1</td>\n",
       "      <td>1</td>\n",
       "      <td>120</td>\n",
       "      <td>236</td>\n",
       "      <td>0</td>\n",
       "      <td>1</td>\n",
       "      <td>178</td>\n",
       "      <td>0</td>\n",
       "      <td>0.8</td>\n",
       "      <td>2</td>\n",
       "      <td>0</td>\n",
       "      <td>2</td>\n",
       "      <td>1</td>\n",
       "    </tr>\n",
       "    <tr>\n",
       "      <th>4</th>\n",
       "      <td>56</td>\n",
       "      <td>0</td>\n",
       "      <td>0</td>\n",
       "      <td>120</td>\n",
       "      <td>354</td>\n",
       "      <td>0</td>\n",
       "      <td>1</td>\n",
       "      <td>163</td>\n",
       "      <td>1</td>\n",
       "      <td>0.6</td>\n",
       "      <td>2</td>\n",
       "      <td>0</td>\n",
       "      <td>2</td>\n",
       "      <td>1</td>\n",
       "    </tr>\n",
       "  </tbody>\n",
       "</table>\n",
       "</div>"
      ],
      "text/plain": [
       "   age  sex  cp  trtbps  chol  fbs  restecg  thalachh  exng  oldpeak  slp  \\\n",
       "0   60    1   3     145   233    1        0       150     0      2.3    0   \n",
       "1   35    1   2     130   250    0        1       187     0      3.5    0   \n",
       "2   41    0   1     130   204    0        0       172     0      1.4    2   \n",
       "3   55    1   1     120   236    0        1       178     0      0.8    2   \n",
       "4   56    0   0     120   354    0        1       163     1      0.6    2   \n",
       "\n",
       "   caa  thall  output  \n",
       "0    0      1       1  \n",
       "1    0      2       1  \n",
       "2    0      2       1  \n",
       "3    0      2       1  \n",
       "4    0      2       1  "
      ]
     },
     "execution_count": 16,
     "metadata": {},
     "output_type": "execute_result"
    }
   ],
   "source": [
    "dataset = data.copy()\n",
    "dataset.head()"
   ]
  },
  {
   "cell_type": "code",
   "execution_count": 17,
   "metadata": {},
   "outputs": [],
   "source": [
    "X = dataset.drop(['output'], axis = 1)\n",
    "y = dataset['output']"
   ]
  },
  {
   "cell_type": "code",
   "execution_count": 18,
   "metadata": {},
   "outputs": [
    {
     "data": {
      "text/plain": [
       "Index(['age', 'sex', 'cp', 'trtbps', 'chol', 'fbs', 'restecg', 'thalachh',\n",
       "       'exng', 'oldpeak', 'slp', 'caa', 'thall'],\n",
       "      dtype='object')"
      ]
     },
     "execution_count": 18,
     "metadata": {},
     "output_type": "execute_result"
    }
   ],
   "source": [
    "X.columns"
   ]
  },
  {
   "cell_type": "code",
   "execution_count": 19,
   "metadata": {},
   "outputs": [],
   "source": [
    "from sklearn.model_selection import train_test_split\n",
    "\n",
    "X_train, X_test, y_train, y_test = train_test_split(X, y, test_size = 0.2, random_state = 42)"
   ]
  },
  {
   "cell_type": "code",
   "execution_count": 20,
   "metadata": {},
   "outputs": [
    {
     "data": {
      "text/plain": [
       "RandomForestClassifier(bootstrap=True, ccp_alpha=0.0, class_weight=None,\n",
       "                       criterion='gini', max_depth=None, max_features='auto',\n",
       "                       max_leaf_nodes=None, max_samples=None,\n",
       "                       min_impurity_decrease=0.0, min_impurity_split=None,\n",
       "                       min_samples_leaf=1, min_samples_split=2,\n",
       "                       min_weight_fraction_leaf=0.0, n_estimators=20,\n",
       "                       n_jobs=None, oob_score=False, random_state=None,\n",
       "                       verbose=0, warm_start=False)"
      ]
     },
     "execution_count": 20,
     "metadata": {},
     "output_type": "execute_result"
    }
   ],
   "source": [
    "from sklearn.ensemble import RandomForestClassifier\n",
    "model = RandomForestClassifier(n_estimators=20)\n",
    "model.fit(X_train, y_train)"
   ]
  },
  {
   "cell_type": "code",
   "execution_count": 21,
   "metadata": {},
   "outputs": [
    {
     "data": {
      "text/plain": [
       "array([1, 1, 0, 0, 0, 1, 1, 1, 1, 0], dtype=int64)"
      ]
     },
     "execution_count": 21,
     "metadata": {},
     "output_type": "execute_result"
    }
   ],
   "source": [
    "pred = model.predict(X_test)\n",
    "pred[:10]"
   ]
  },
  {
   "cell_type": "code",
   "execution_count": 22,
   "metadata": {},
   "outputs": [
    {
     "data": {
      "text/plain": [
       "array([[22,  5],\n",
       "       [ 5, 26]], dtype=int64)"
      ]
     },
     "execution_count": 22,
     "metadata": {},
     "output_type": "execute_result"
    }
   ],
   "source": [
    "from sklearn.metrics import confusion_matrix\n",
    "confusion_matrix(y_test, pred)"
   ]
  },
  {
   "cell_type": "code",
   "execution_count": 23,
   "metadata": {},
   "outputs": [],
   "source": [
    "from sklearn.metrics import accuracy_score"
   ]
  },
  {
   "cell_type": "code",
   "execution_count": 24,
   "metadata": {},
   "outputs": [
    {
     "name": "stdout",
     "output_type": "stream",
     "text": [
      "Accuracy of model is 82.76%\n"
     ]
    }
   ],
   "source": [
    "print(f\"Accuracy of model is {round(accuracy_score(y_test, pred)*100, 2)}%\")"
   ]
  },
  {
   "cell_type": "markdown",
   "metadata": {},
   "source": [
    "## Hyperparameter Tuning"
   ]
  },
  {
   "cell_type": "code",
   "execution_count": 25,
   "metadata": {},
   "outputs": [],
   "source": [
    "from sklearn.model_selection import RandomizedSearchCV"
   ]
  },
  {
   "cell_type": "code",
   "execution_count": 26,
   "metadata": {},
   "outputs": [],
   "source": [
    "classifier = RandomForestClassifier(n_jobs = -1)"
   ]
  },
  {
   "cell_type": "code",
   "execution_count": 27,
   "metadata": {},
   "outputs": [],
   "source": [
    "from scipy.stats import randint\n",
    "param_dist={'max_depth':[3,5,10,None],\n",
    "              'n_estimators':[10,100,200,300,400,500],\n",
    "              'max_features':randint(1,31),\n",
    "               'criterion':['gini','entropy'],\n",
    "               'bootstrap':[True,False],\n",
    "               'min_samples_leaf':randint(1,31),\n",
    "              }"
   ]
  },
  {
   "cell_type": "code",
   "execution_count": 28,
   "metadata": {},
   "outputs": [],
   "source": [
    "search_clfr = RandomizedSearchCV(classifier, param_distributions = param_dist, n_jobs=-1, n_iter = 40, cv = 9)"
   ]
  },
  {
   "cell_type": "code",
   "execution_count": 29,
   "metadata": {},
   "outputs": [
    {
     "data": {
      "text/plain": [
       "RandomizedSearchCV(cv=9, error_score=nan,\n",
       "                   estimator=RandomForestClassifier(bootstrap=True,\n",
       "                                                    ccp_alpha=0.0,\n",
       "                                                    class_weight=None,\n",
       "                                                    criterion='gini',\n",
       "                                                    max_depth=None,\n",
       "                                                    max_features='auto',\n",
       "                                                    max_leaf_nodes=None,\n",
       "                                                    max_samples=None,\n",
       "                                                    min_impurity_decrease=0.0,\n",
       "                                                    min_impurity_split=None,\n",
       "                                                    min_samples_leaf=1,\n",
       "                                                    min_samples_split=2,\n",
       "                                                    min_weight_fraction_leaf=0.0,\n",
       "                                                    n_estimators=100, n_jobs...\n",
       "                                        'criterion': ['gini', 'entropy'],\n",
       "                                        'max_depth': [3, 5, 10, None],\n",
       "                                        'max_features': <scipy.stats._distn_infrastructure.rv_frozen object at 0x000001D846E76B70>,\n",
       "                                        'min_samples_leaf': <scipy.stats._distn_infrastructure.rv_frozen object at 0x000001D846E76D30>,\n",
       "                                        'n_estimators': [10, 100, 200, 300, 400,\n",
       "                                                         500]},\n",
       "                   pre_dispatch='2*n_jobs', random_state=None, refit=True,\n",
       "                   return_train_score=False, scoring=None, verbose=0)"
      ]
     },
     "execution_count": 29,
     "metadata": {},
     "output_type": "execute_result"
    }
   ],
   "source": [
    "search_clfr.fit(X_train, y_train)"
   ]
  },
  {
   "cell_type": "code",
   "execution_count": 30,
   "metadata": {},
   "outputs": [
    {
     "name": "stdout",
     "output_type": "stream",
     "text": [
      "{'bootstrap': True, 'criterion': 'entropy', 'max_depth': 3, 'max_features': 4, 'min_samples_leaf': 1, 'n_estimators': 200}\n",
      "0.8400000000000001\n"
     ]
    }
   ],
   "source": [
    "params = search_clfr.best_params_\n",
    "score = search_clfr.best_score_\n",
    "print(params)\n",
    "print(score)"
   ]
  },
  {
   "cell_type": "code",
   "execution_count": 31,
   "metadata": {},
   "outputs": [],
   "source": [
    "claasifier=RandomForestClassifier(n_jobs=-1, n_estimators=400,bootstrap= False,criterion='gini',max_depth=5,max_features=3,min_samples_leaf= 7)"
   ]
  },
  {
   "cell_type": "code",
   "execution_count": 32,
   "metadata": {},
   "outputs": [
    {
     "data": {
      "text/plain": [
       "RandomForestClassifier(bootstrap=True, ccp_alpha=0.0, class_weight=None,\n",
       "                       criterion='gini', max_depth=None, max_features='auto',\n",
       "                       max_leaf_nodes=None, max_samples=None,\n",
       "                       min_impurity_decrease=0.0, min_impurity_split=None,\n",
       "                       min_samples_leaf=1, min_samples_split=2,\n",
       "                       min_weight_fraction_leaf=0.0, n_estimators=100,\n",
       "                       n_jobs=-1, oob_score=False, random_state=None, verbose=0,\n",
       "                       warm_start=False)"
      ]
     },
     "execution_count": 32,
     "metadata": {},
     "output_type": "execute_result"
    }
   ],
   "source": [
    "classifier.fit(X_train, y_train)"
   ]
  },
  {
   "cell_type": "code",
   "execution_count": 33,
   "metadata": {},
   "outputs": [
    {
     "data": {
      "text/plain": [
       "array([[22,  5],\n",
       "       [ 5, 26]], dtype=int64)"
      ]
     },
     "execution_count": 33,
     "metadata": {},
     "output_type": "execute_result"
    }
   ],
   "source": [
    "confusion_matrix(y_test, classifier.predict(X_test))"
   ]
  },
  {
   "cell_type": "code",
   "execution_count": 34,
   "metadata": {},
   "outputs": [
    {
     "name": "stdout",
     "output_type": "stream",
     "text": [
      "Accuracy is 82.76%\n"
     ]
    }
   ],
   "source": [
    "print(f\"Accuracy is {round(accuracy_score(y_test, classifier.predict(X_test))*100,2)}%\")"
   ]
  },
  {
   "cell_type": "code",
   "execution_count": 35,
   "metadata": {},
   "outputs": [],
   "source": [
    "import pickle\n",
    "pickle.dump(classifier, open('heart.pkl', 'wb'))"
   ]
  },
  {
   "cell_type": "code",
   "execution_count": 39,
   "metadata": {},
   "outputs": [],
   "source": [
    "from sklearn.preprocessing import StandardScaler\n",
    "from tensorflow.keras.models import Sequential\n",
    "from tensorflow.keras.layers import Dense, Dropout"
   ]
  },
  {
   "cell_type": "code",
   "execution_count": 37,
   "metadata": {},
   "outputs": [],
   "source": [
    "scaler = StandardScaler()\n",
    "X_scaled = scaler.fit_transform(X)\n",
    "\n",
    "# Split into training and test data\n",
    "X_train, X_test, y_train, y_test = train_test_split(X_scaled, y, test_size=0.2, random_state=42)"
   ]
  },
  {
   "cell_type": "code",
   "execution_count": 40,
   "metadata": {},
   "outputs": [
    {
     "name": "stdout",
     "output_type": "stream",
     "text": [
      "Train on 207 samples, validate on 24 samples\n",
      "Epoch 1/50\n",
      "207/207 [==============================] - 0s 2ms/sample - loss: 0.7126 - accuracy: 0.6135 - val_loss: 0.5838 - val_accuracy: 0.7917\n",
      "Epoch 2/50\n",
      "207/207 [==============================] - 0s 111us/sample - loss: 0.5751 - accuracy: 0.7536 - val_loss: 0.4741 - val_accuracy: 0.8333\n",
      "Epoch 3/50\n",
      "207/207 [==============================] - 0s 62us/sample - loss: 0.5001 - accuracy: 0.7874 - val_loss: 0.3893 - val_accuracy: 0.8333\n",
      "Epoch 4/50\n",
      "207/207 [==============================] - 0s 123us/sample - loss: 0.4496 - accuracy: 0.7971 - val_loss: 0.3261 - val_accuracy: 0.8333\n",
      "Epoch 5/50\n",
      "207/207 [==============================] - 0s 120us/sample - loss: 0.3916 - accuracy: 0.8454 - val_loss: 0.2860 - val_accuracy: 0.8750\n",
      "Epoch 6/50\n",
      "207/207 [==============================] - 0s 165us/sample - loss: 0.3855 - accuracy: 0.8502 - val_loss: 0.2725 - val_accuracy: 0.8750\n",
      "Epoch 7/50\n",
      "207/207 [==============================] - 0s 121us/sample - loss: 0.3776 - accuracy: 0.8454 - val_loss: 0.2617 - val_accuracy: 0.8750\n",
      "Epoch 8/50\n",
      "207/207 [==============================] - 0s 123us/sample - loss: 0.3435 - accuracy: 0.8357 - val_loss: 0.2500 - val_accuracy: 0.8750\n",
      "Epoch 9/50\n",
      "207/207 [==============================] - 0s 117us/sample - loss: 0.3254 - accuracy: 0.8406 - val_loss: 0.2428 - val_accuracy: 0.8750\n",
      "Epoch 10/50\n",
      "207/207 [==============================] - 0s 109us/sample - loss: 0.3302 - accuracy: 0.8502 - val_loss: 0.2334 - val_accuracy: 0.9167\n",
      "Epoch 11/50\n",
      "207/207 [==============================] - 0s 119us/sample - loss: 0.3441 - accuracy: 0.8454 - val_loss: 0.2324 - val_accuracy: 0.9167\n",
      "Epoch 12/50\n",
      "207/207 [==============================] - 0s 111us/sample - loss: 0.3018 - accuracy: 0.8744 - val_loss: 0.2262 - val_accuracy: 0.9167\n",
      "Epoch 13/50\n",
      "207/207 [==============================] - 0s 122us/sample - loss: 0.3102 - accuracy: 0.8986 - val_loss: 0.2369 - val_accuracy: 0.8750\n",
      "Epoch 14/50\n",
      "207/207 [==============================] - 0s 107us/sample - loss: 0.2812 - accuracy: 0.9034 - val_loss: 0.2254 - val_accuracy: 0.8750\n",
      "Epoch 15/50\n",
      "207/207 [==============================] - 0s 128us/sample - loss: 0.2984 - accuracy: 0.8744 - val_loss: 0.2295 - val_accuracy: 0.8750\n",
      "Epoch 16/50\n",
      "207/207 [==============================] - 0s 119us/sample - loss: 0.2907 - accuracy: 0.8841 - val_loss: 0.2412 - val_accuracy: 0.8750\n",
      "Epoch 17/50\n",
      "207/207 [==============================] - 0s 129us/sample - loss: 0.2719 - accuracy: 0.9130 - val_loss: 0.2351 - val_accuracy: 0.8750\n",
      "Epoch 18/50\n",
      "207/207 [==============================] - 0s 120us/sample - loss: 0.2885 - accuracy: 0.8889 - val_loss: 0.2402 - val_accuracy: 0.8750\n",
      "Epoch 19/50\n",
      "207/207 [==============================] - 0s 115us/sample - loss: 0.2615 - accuracy: 0.8937 - val_loss: 0.2401 - val_accuracy: 0.8750\n",
      "Epoch 20/50\n",
      "207/207 [==============================] - 0s 119us/sample - loss: 0.2333 - accuracy: 0.9034 - val_loss: 0.2512 - val_accuracy: 0.8750\n",
      "Epoch 21/50\n",
      "207/207 [==============================] - 0s 128us/sample - loss: 0.2559 - accuracy: 0.9034 - val_loss: 0.2495 - val_accuracy: 0.8750\n",
      "Epoch 22/50\n",
      "207/207 [==============================] - 0s 116us/sample - loss: 0.2321 - accuracy: 0.9227 - val_loss: 0.2343 - val_accuracy: 0.8750\n",
      "Epoch 23/50\n",
      "207/207 [==============================] - 0s 102us/sample - loss: 0.2221 - accuracy: 0.9179 - val_loss: 0.2411 - val_accuracy: 0.8750\n",
      "Epoch 24/50\n",
      "207/207 [==============================] - 0s 108us/sample - loss: 0.2271 - accuracy: 0.9179 - val_loss: 0.2495 - val_accuracy: 0.8750\n",
      "Epoch 25/50\n",
      "207/207 [==============================] - 0s 133us/sample - loss: 0.2395 - accuracy: 0.9179 - val_loss: 0.2453 - val_accuracy: 0.8750\n",
      "Epoch 26/50\n",
      "207/207 [==============================] - 0s 120us/sample - loss: 0.2184 - accuracy: 0.9227 - val_loss: 0.2472 - val_accuracy: 0.8750\n",
      "Epoch 27/50\n",
      "207/207 [==============================] - 0s 93us/sample - loss: 0.1984 - accuracy: 0.9275 - val_loss: 0.2550 - val_accuracy: 0.8750\n",
      "Epoch 28/50\n",
      "207/207 [==============================] - 0s 105us/sample - loss: 0.1828 - accuracy: 0.9420 - val_loss: 0.2651 - val_accuracy: 0.8750\n",
      "Epoch 29/50\n",
      "207/207 [==============================] - 0s 66us/sample - loss: 0.2010 - accuracy: 0.9324 - val_loss: 0.2876 - val_accuracy: 0.9167\n",
      "Epoch 30/50\n",
      "207/207 [==============================] - 0s 121us/sample - loss: 0.1881 - accuracy: 0.9324 - val_loss: 0.2685 - val_accuracy: 0.8750\n",
      "Epoch 31/50\n",
      "207/207 [==============================] - 0s 119us/sample - loss: 0.1875 - accuracy: 0.9130 - val_loss: 0.2620 - val_accuracy: 0.8750\n",
      "Epoch 32/50\n",
      "207/207 [==============================] - 0s 120us/sample - loss: 0.1870 - accuracy: 0.9324 - val_loss: 0.2776 - val_accuracy: 0.8750\n",
      "Epoch 33/50\n",
      "207/207 [==============================] - 0s 121us/sample - loss: 0.1880 - accuracy: 0.9130 - val_loss: 0.2900 - val_accuracy: 0.8750\n",
      "Epoch 34/50\n",
      "207/207 [==============================] - 0s 66us/sample - loss: 0.1723 - accuracy: 0.9275 - val_loss: 0.2903 - val_accuracy: 0.9167\n",
      "Epoch 35/50\n",
      "207/207 [==============================] - 0s 53us/sample - loss: 0.1784 - accuracy: 0.9372 - val_loss: 0.2732 - val_accuracy: 0.9167\n",
      "Epoch 36/50\n",
      "207/207 [==============================] - 0s 142us/sample - loss: 0.1510 - accuracy: 0.9420 - val_loss: 0.2756 - val_accuracy: 0.9167\n",
      "Epoch 37/50\n",
      "207/207 [==============================] - 0s 115us/sample - loss: 0.1781 - accuracy: 0.9372 - val_loss: 0.2864 - val_accuracy: 0.9167\n",
      "Epoch 38/50\n",
      "207/207 [==============================] - 0s 138us/sample - loss: 0.1600 - accuracy: 0.9517 - val_loss: 0.2956 - val_accuracy: 0.9167\n",
      "Epoch 39/50\n",
      "207/207 [==============================] - 0s 103us/sample - loss: 0.1518 - accuracy: 0.9517 - val_loss: 0.3272 - val_accuracy: 0.8750\n",
      "Epoch 40/50\n",
      "207/207 [==============================] - 0s 116us/sample - loss: 0.1631 - accuracy: 0.9372 - val_loss: 0.3022 - val_accuracy: 0.9167\n",
      "Epoch 41/50\n",
      "207/207 [==============================] - 0s 123us/sample - loss: 0.1482 - accuracy: 0.9469 - val_loss: 0.2976 - val_accuracy: 0.9167\n",
      "Epoch 42/50\n",
      "207/207 [==============================] - 0s 95us/sample - loss: 0.1484 - accuracy: 0.9469 - val_loss: 0.3109 - val_accuracy: 0.9167\n",
      "Epoch 43/50\n",
      "207/207 [==============================] - 0s 128us/sample - loss: 0.1618 - accuracy: 0.9565 - val_loss: 0.3429 - val_accuracy: 0.9167\n",
      "Epoch 44/50\n",
      "207/207 [==============================] - 0s 98us/sample - loss: 0.1359 - accuracy: 0.9614 - val_loss: 0.3300 - val_accuracy: 0.8750\n",
      "Epoch 45/50\n",
      "207/207 [==============================] - 0s 76us/sample - loss: 0.1509 - accuracy: 0.9469 - val_loss: 0.3403 - val_accuracy: 0.9167\n",
      "Epoch 46/50\n",
      "207/207 [==============================] - 0s 77us/sample - loss: 0.1417 - accuracy: 0.9469 - val_loss: 0.3223 - val_accuracy: 0.9167\n",
      "Epoch 47/50\n",
      "207/207 [==============================] - 0s 110us/sample - loss: 0.1455 - accuracy: 0.9614 - val_loss: 0.3518 - val_accuracy: 0.9167\n",
      "Epoch 48/50\n",
      "207/207 [==============================] - 0s 126us/sample - loss: 0.1581 - accuracy: 0.9469 - val_loss: 0.3470 - val_accuracy: 0.9167\n",
      "Epoch 49/50\n",
      "207/207 [==============================] - 0s 142us/sample - loss: 0.1275 - accuracy: 0.9517 - val_loss: 0.3200 - val_accuracy: 0.9167\n",
      "Epoch 50/50\n",
      "207/207 [==============================] - 0s 127us/sample - loss: 0.1474 - accuracy: 0.9469 - val_loss: 0.3345 - val_accuracy: 0.9167\n"
     ]
    },
    {
     "data": {
      "text/plain": [
       "<tensorflow.python.keras.callbacks.History at 0x1d84d4d2588>"
      ]
     },
     "execution_count": 40,
     "metadata": {},
     "output_type": "execute_result"
    }
   ],
   "source": [
    "model = Sequential()\n",
    "model.add(Dense(128, input_dim=X_train.shape[1], activation='relu'))\n",
    "model.add(Dropout(0.3))\n",
    "model.add(Dense(64, activation='relu'))\n",
    "model.add(Dropout(0.3))\n",
    "model.add(Dense(1, activation='sigmoid'))  # For binary classification\n",
    "\n",
    "model.compile(optimizer='adam', loss='binary_crossentropy', metrics=['accuracy'])\n",
    "\n",
    "# Train the model\n",
    "model.fit(X_train, y_train, epochs=50, batch_size=16, validation_split=0.1)\n"
   ]
  },
  {
   "cell_type": "code",
   "execution_count": 41,
   "metadata": {},
   "outputs": [
    {
     "name": "stdout",
     "output_type": "stream",
     "text": [
      "58/58 [==============================] - 0s 170us/sample - loss: 0.6733 - accuracy: 0.8448\n",
      "Test Accuracy: 84.48%\n"
     ]
    }
   ],
   "source": [
    "loss, accuracy = model.evaluate(X_test, y_test)\n",
    "print(f'Test Accuracy: {accuracy*100:.2f}%')"
   ]
  },
  {
   "cell_type": "code",
   "execution_count": 43,
   "metadata": {},
   "outputs": [],
   "source": [
    "import pickle\n",
    "\n",
    "# After fitting the scaler on training data\n",
    "scaler = StandardScaler()\n",
    "X_scaled = scaler.fit_transform(X)\n",
    "model.save('heart_Deep_model.h5')\n",
    "# Save the scaler\n",
    "with open('heart_scaler.pkl', 'wb') as f:\n",
    "    pickle.dump(scaler, f)\n"
   ]
  }
 ],
 "metadata": {
  "kernelspec": {
   "display_name": "Python 3",
   "language": "python",
   "name": "python3"
  },
  "language_info": {
   "codemirror_mode": {
    "name": "ipython",
    "version": 3
   },
   "file_extension": ".py",
   "mimetype": "text/x-python",
   "name": "python",
   "nbconvert_exporter": "python",
   "pygments_lexer": "ipython3",
   "version": "3.7.0"
  }
 },
 "nbformat": 4,
 "nbformat_minor": 2
}
